{
  "nbformat": 4,
  "nbformat_minor": 0,
  "metadata": {
    "colab": {
      "provenance": [],
      "include_colab_link": true
    },
    "kernelspec": {
      "name": "python3",
      "display_name": "Python 3"
    },
    "language_info": {
      "name": "python"
    }
  },
  "cells": [
    {
      "cell_type": "markdown",
      "metadata": {
        "id": "view-in-github",
        "colab_type": "text"
      },
      "source": [
        "<a href=\"https://colab.research.google.com/github/mannodiarun/perovs_dft_ml/blob/main/Neural_Network_Regression.ipynb\" target=\"_parent\"><img src=\"https://colab.research.google.com/assets/colab-badge.svg\" alt=\"Open In Colab\"/></a>"
      ]
    },
    {
      "cell_type": "markdown",
      "source": [
        "## *Using neural networks to predict perovskite bandgaps*\n",
        "\n",
        "In this tutorial we will learn how to use the [Keras](https://keras.io/) and [Tensorflow](https://www.tensorflow.org/) libraries to create a neural network regression model that estimates perovskite bandgaps.\n",
        "\n",
        "You can find another example of neural network regression using Keras in the [TensorFlow Tutorials](https://nanohub.org/tools/tftutorials) nanoHUB tool.\n",
        "\n",
        "This tutorial uses Python, some familiarity with programming would be beneficial but is not required. Run each code cell in order by hitting \"Shift + Enter\", or clicking the \"Run\" button in the menu bar above this notebook. Feel free to modify the code to familiarize yourself with how the code works.\n",
        "\n",
        "**Outline:**\n",
        "\n",
        "1. Import libraries\n",
        "2. Getting data\n",
        "3. Preprocessing and Organizing Data\n",
        "4. Creating the neural network model\n",
        "5. Training the model\n",
        "6. Evaluate model training\n",
        "7. Make some predictions\n",
        "\n",
        "**Get started:** Hit \"Shift-Enter\" on the code cells to run! "
      ],
      "metadata": {
        "id": "npnk8NNGSTOK"
      }
    },
    {
      "cell_type": "markdown",
      "source": [
        "### Step 1. Import libraries\n",
        "\n",
        "We first import the relevant libraries. These imports are over four cells:\n",
        "\n",
        "The first cell imports the [Pandas](https://pandas.pydata.org/) and [Numpy](https://numpy.org/) libraries that we will use to import and convert the data to appropriate formats for the neural network. We will also import modules from the [Scikit-Learn](https://scikit-learn.org/stable/) library that will help pre-process the data"
      ],
      "metadata": {
        "id": "HAB_FpIMSpeZ"
      }
    },
    {
      "cell_type": "code",
      "source": [
        "import pandas as pd\n",
        "import numpy as np\n",
        "import re\n",
        "import seaborn as sns\n",
        "import copy\n",
        "\n",
        "from sklearn.model_selection import train_test_split\n",
        "from sklearn.preprocessing import MinMaxScaler\n",
        "\n",
        "from matplotlib import pyplot as plt"
      ],
      "metadata": {
        "id": "uwJRHqNFSiFu"
      },
      "execution_count": null,
      "outputs": []
    },
    {
      "cell_type": "markdown",
      "source": [
        "The next cell imports the [Keras](https://keras.io/) and [Tensorflow](https://www.tensorflow.org/) libraries, which we use to construct and train the neural network. The third cell sets the random seed to ensure consistent results every time the notebook is run, an important step in reproducibility"
      ],
      "metadata": {
        "id": "WjzpiRf9S9IQ"
      }
    },
    {
      "cell_type": "code",
      "source": [
        "import tensorflow as tf\n",
        "from tensorflow import keras"
      ],
      "metadata": {
        "id": "7M5w0ig0S7ye"
      },
      "execution_count": null,
      "outputs": []
    },
    {
      "cell_type": "code",
      "source": [
        "np.random.seed(0)\n",
        "tf.random.set_seed(0)"
      ],
      "metadata": {
        "id": "zdPOo9O_TBUw"
      },
      "execution_count": null,
      "outputs": []
    },
    {
      "cell_type": "markdown",
      "source": [
        "### Step 2. Getting data\n",
        "\n",
        "We will download the data from [this](https://github.com/mannodiarun/perovs_dft_ml) Github repository, after which we will use the Pandas `read_csv()` function to read in the data into a Pandas dataframe"
      ],
      "metadata": {
        "id": "TmurnfX2bkNV"
      }
    },
    {
      "cell_type": "code",
      "source": [
        "!wget https://raw.githubusercontent.com/mannodiarun/perovs_dft_ml/main/PBE_data.csv"
      ],
      "metadata": {
        "colab": {
          "base_uri": "https://localhost:8080/"
        },
        "id": "CMMzU7bvRxyy",
        "outputId": "2a39f4d7-f57b-413c-e339-65edbbc4c7e2"
      },
      "execution_count": null,
      "outputs": [
        {
          "output_type": "stream",
          "name": "stdout",
          "text": [
            "--2022-11-27 15:15:24--  https://raw.githubusercontent.com/mannodiarun/perovs_dft_ml/main/PBE_data.csv\n",
            "Resolving raw.githubusercontent.com (raw.githubusercontent.com)... 185.199.109.133, 185.199.108.133, 185.199.110.133, ...\n",
            "Connecting to raw.githubusercontent.com (raw.githubusercontent.com)|185.199.109.133|:443... connected.\n",
            "HTTP request sent, awaiting response... 200 OK\n",
            "Length: 242860 (237K) [text/plain]\n",
            "Saving to: ‘PBE_data.csv’\n",
            "\n",
            "\rPBE_data.csv          0%[                    ]       0  --.-KB/s               \rPBE_data.csv        100%[===================>] 237.17K  --.-KB/s    in 0.008s  \n",
            "\n",
            "2022-11-27 15:15:24 (28.1 MB/s) - ‘PBE_data.csv’ saved [242860/242860]\n",
            "\n"
          ]
        }
      ]
    },
    {
      "cell_type": "code",
      "source": [
        "data = pd.read_csv(\"./PBE_data.csv\")"
      ],
      "metadata": {
        "id": "9U-dKdNwTF8G"
      },
      "execution_count": null,
      "outputs": []
    },
    {
      "cell_type": "markdown",
      "source": [
        "The first element in each row of this dataframe is a chemical composition, indicated by the column \"Formula\". We need to convert the raw chemical formula into a numerical representation to develop ML models. This process is generally called featurization, and we could use libraries such as [matminer](https://github.com/hackingmaterials/matminer) do to this. In our case, the featurization has already been performed and stored in columns of the CSV file we are using. So we will just load these features into a dataframe."
      ],
      "metadata": {
        "id": "fZJbrNIcTI5F"
      }
    },
    {
      "cell_type": "code",
      "source": [
        "#descriptors indicating composition (formula)\n",
        "Comp_desc = pd.DataFrame(data, columns=['K', 'Rb', 'Cs', 'MA', 'FA', 'Ca', 'Sr', 'Ba', 'Ge', 'Sn', 'Pb', 'Cl', 'Br', 'I'])\n",
        "#descriptors using elemental properties (ionic radii, density etc.)\n",
        "Elem_desc = pd.DataFrame(data, columns=['A_ion_rad', 'A_BP', 'A_MP', 'A_dens', 'A_at_wt', 'A_EA', 'A_IE', 'A_hof', 'A_hov', 'A_En', \n",
        "                                        'A_at_num', 'A_period', 'B_ion_rad', 'B_BP', 'B_MP', 'B_dens', 'B_at_wt', 'B_EA', 'B_IE', 'B_hof', \n",
        "                                        'B_hov', 'B_En', 'B_at_num', 'B_period', 'X_ion_rad', 'X_BP', 'X_MP', 'X_dens', 'X_at_wt', \n",
        "                                        'X_EA', 'X_IE', 'X_hof', 'X_hov', 'X_En', 'X_at_num', 'X_period'])\n",
        "#combined descriptors\n",
        "All_desc = pd.DataFrame(data, columns=['K', 'Rb', 'Cs', 'MA', 'FA', 'Ca', 'Sr', 'Ba', 'Ge', 'Sn', 'Pb', 'Cl', 'Br', 'I', 'A_ion_rad', \n",
        "                                       'A_BP', 'A_MP', 'A_dens', 'A_at_wt', 'A_EA', 'A_IE', 'A_hof', 'A_hov', 'A_En', 'A_at_num', 'A_period', \n",
        "                                       'B_ion_rad', 'B_BP', 'B_MP', 'B_dens', 'B_at_wt', 'B_EA', 'B_IE', 'B_hof', 'B_hov', 'B_En', 'B_at_num', \n",
        "                                       'B_period', 'X_ion_rad', 'X_BP', 'X_MP', 'X_dens', 'X_at_wt', 'X_EA', 'X_IE', 'X_hof', 'X_hov', 'X_En', \n",
        "                                       'X_at_num', 'X_period'])\n",
        "\n",
        "X = copy.deepcopy(Comp_desc)"
      ],
      "metadata": {
        "id": "mwWMkEsJaBQv"
      },
      "execution_count": null,
      "outputs": []
    },
    {
      "cell_type": "markdown",
      "source": [
        "#### Data Visualization\n",
        "\n",
        "Before training models on our data, we can visualize the kind of data we are working with. This can be done in multiple ways, and in this notebook we are going to look at the range of bandgaps present in our dataset via a histogram.\n",
        "\n",
        "Visualization here is performed using Matplotlib, a Python plotting library. Other options include [Plotly](https://plotly.com/python/) or [Bokeh](https://bokeh.org/)."
      ],
      "metadata": {
        "id": "v3XjaXFcdZeQ"
      }
    },
    {
      "cell_type": "code",
      "source": [
        "fig = plt.subplots( figsize=(6,6) )\n",
        "plt.subplots_adjust(left=0.11, bottom=0.24, right=0.96, top=0.86, wspace=0.30, hspace=0.40)\n",
        "prop = data.Gap\n",
        "\n",
        "prop_group1 = data.loc[(data.MA > 0) | (data.FA > 0)].Gap\n",
        "\n",
        "plt.hist(prop, color='b', label='_nolegend_')\n",
        "plt.hist(prop_group1, color='r', label='_nolegend_')\n",
        "plt.hist(prop[0], color='b', label='Inorganic')\n",
        "plt.hist(prop_group1[0], color='r', label='Hybrid')\n",
        "plt.rc('xtick', labelsize=24)\n",
        "plt.rc('ytick', labelsize=24)\n",
        "plt.xlabel('Band Gap (eV)', c='k', fontsize=20)\n",
        "plt.legend(loc='upper right', ncol=1, frameon=True, prop={'size':20})"
      ],
      "metadata": {
        "id": "av0a71ZOT3cV",
        "colab": {
          "base_uri": "https://localhost:8080/",
          "height": 358
        },
        "outputId": "0b79673e-91a6-4a2c-a1e6-34087e143b84"
      },
      "execution_count": null,
      "outputs": [
        {
          "output_type": "execute_result",
          "data": {
            "text/plain": [
              "<matplotlib.legend.Legend at 0x7f1d2d705d10>"
            ]
          },
          "metadata": {},
          "execution_count": 7
        },
        {
          "output_type": "display_data",
          "data": {
            "text/plain": [
              "<Figure size 432x432 with 1 Axes>"
            ],
            "image/png": "[encoded data removed]"
          },
          "metadata": {
            "needs_background": "light"
          }
        }
      ]
    },
    {
      "cell_type": "markdown",
      "source": [
        "### Step 3. Preprocessing and Organizing Data\n",
        "\n",
        "We could use all the data at hand to train our model. However, this model would have no guarantee of performing well on an unseen dataset. To mitigate this, we could take one extra step and partition out a \"testing\" dataset from our data. This dataset will not be used in training the model, and will only be used to judge model performance on unseen data. \n",
        "\n",
        "We can train a model using a single training set, and evaluate it on the test set. But many ML models such as neural networks come with \"hyperparameters\" that we do not know the setting for (example: number of layers in a neural network). With one training and testing dataset, we do not have a way to tune the \"hyperparameters\" of the model. \n",
        "\n",
        "There are two solutions to this problem:\n",
        "1. Carve out an additional \"validation\" dataset from the training dataset\n",
        "2. Cross-validation\n",
        "\n",
        "In approach 1, we define a validation set (from within our training set) that will be used as data to evaluate the hyperparameter settings of our model. However, this reduces the amount of data available for training and can be problematic for small datasets. Cross-validation (approach 2) resolves this by using multiple iterations where each iteration uses one chunk of the training data as a validation set. This allows us to tune hyperparameters without wasting too much data.\n",
        "\n",
        "You can read more about cross-validation [here](https://scikit-learn.org/stable/modules/cross_validation.html). \n",
        "\n",
        "Here, we adopt approach 1, i.e, carving a fixed validation set from the training data. For an example of cross-validation, refer to the Random Forest Regressor approach in notebook 2 of this tutorial series.\n",
        "\n",
        "We use the Scikit Learn `train_test_split` function to reserve 20% of the data as a test set. You can read more about the `train_test_split` [here](https://scikit-learn.org/stable/modules/generated/sklearn.model_selection.train_test_split.html)."
      ],
      "metadata": {
        "id": "X-PTLvs4TpBa"
      }
    },
    {
      "cell_type": "markdown",
      "source": [
        "now we need to preprocess the data, we will use a simple min-max normalization scheme from scikit learn"
      ],
      "metadata": {
        "id": "DkrEXDuSj3T4"
      }
    },
    {
      "cell_type": "code",
      "source": [
        "#scale inputs\n",
        "scaler = MinMaxScaler()\n",
        "X = scaler.fit_transform(X)"
      ],
      "metadata": {
        "id": "OVFygneqr5b3"
      },
      "execution_count": null,
      "outputs": []
    },
    {
      "cell_type": "code",
      "source": [
        "X_train, X_test, Y_train, Y_test = train_test_split(X, data.Gap, test_size=0.2, random_state=0)\n",
        "\n",
        "ntrain = Y_train.size\n",
        "ntest = Y_test.size\n",
        "\n",
        "X_train_fl = np.array(X_train, dtype=\"float32\")\n",
        "Y_train_fl = np.array(Y_train, dtype=\"float32\")\n",
        "\n",
        "X_test_fl = np.array(X_test, dtype=\"float32\")\n",
        "Y_test_fl = np.array(Y_test, dtype=\"float32\")"
      ],
      "metadata": {
        "id": "8LfexSAETsWR"
      },
      "execution_count": null,
      "outputs": []
    },
    {
      "cell_type": "markdown",
      "source": [
        "We now further divide the non-test dataset into training and validation sets. The first 80% is reserved for training, and the remaining 20% is reserved as a validation set. A validation set helps us control model hyperparameters, and monitor for overfitting."
      ],
      "metadata": {
        "id": "RmGPMeHjTufI"
      }
    },
    {
      "cell_type": "code",
      "source": [
        "#prepare training and validation sets\n",
        "X = X_train_fl\n",
        "Y = Y_train_fl\n",
        "\n",
        "idx = int(0.8*X.shape[0]) #Get a validation set\n",
        "Xtrain = X[:idx, :] #80% training\n",
        "Ytrain = Y[:idx].reshape((-1, 1))\n",
        "Xval = X[idx:, :] #20% validation\n",
        "Yval = Y[idx:].reshape((-1, 1))\n",
        "\n",
        "#prepare testing set\n",
        "Xtest = X_test_fl\n",
        "Ytest = Y_test_fl.reshape((-1, 1))"
      ],
      "metadata": {
        "id": "-kKw1cXnTwea"
      },
      "execution_count": null,
      "outputs": []
    },
    {
      "cell_type": "code",
      "source": [
        "#check for consistency\n",
        "print (Xtrain.shape, Ytrain.shape, Xval.shape, Yval.shape, Xtest.shape, Ytest.shape)"
      ],
      "metadata": {
        "id": "iUwTnECBTyqT",
        "colab": {
          "base_uri": "https://localhost:8080/"
        },
        "outputId": "93ea596f-4d84-4b2b-e433-8d6da0147a43"
      },
      "execution_count": null,
      "outputs": [
        {
          "output_type": "stream",
          "name": "stdout",
          "text": [
            "(316, 14) (316, 1) (79, 14) (79, 1) (99, 14) (99, 1)\n"
          ]
        }
      ]
    },
    {
      "cell_type": "markdown",
      "source": [
        "### Step 4. Creating the Neural Network\n",
        "\n",
        "We define our neural network architecture in terms of two primary quantities, the number of layers in the network, and the number of \"neurons\" or nodes in each layer. In this case, we will use two hidden layers, each with 100 nodes. To specify this architecture, we will use the Keras Sequential class.\n",
        "\n",
        "\n",
        "The layers use [Tanh](https://en.wikipedia.org/wiki/Hyperbolic_functions) (Hyperbolic Tangent) and [ReLU](https://en.wikipedia.org/wiki/Rectifier_(neural_networks) (Rectified Linear Unit) [activation functions](https://en.wikipedia.org/wiki/Activation_function). Click [here](https://towardsdatascience.com/secret-sauce-behind-the-beauty-of-deep-learning-beginners-guide-to-activation-functions-a8e23a57d046) to see and visualize the equations describing these activation functions."
      ],
      "metadata": {
        "id": "vdSCyHkLT0xh"
      }
    },
    {
      "cell_type": "code",
      "source": [
        "model = keras.Sequential() #initialize a Sequential model\n",
        "model.add(keras.Input(shape=(14,))) #Add an input layer, the shape parameter tells how many inputs each data point will have\n",
        "model.add(keras.layers.Dense(100, activation='tanh')) #Dense defines a fully connected layer, the argument specifies the number of neurons\n",
        "model.add(keras.layers.Dense(100, activation='tanh')) #activation defines the activation function applied after each layer\n",
        "model.add(keras.layers.Dense(1, activation='relu')) #Output layer can use a 'relu' activation since outputs are always positive"
      ],
      "metadata": {
        "id": "p_Cjey4lT30J"
      },
      "execution_count": null,
      "outputs": []
    },
    {
      "cell_type": "code",
      "source": [
        "model.summary()\n",
        "#Summary helps view the layers in the model\n",
        "#and the number of parameters in each layer"
      ],
      "metadata": {
        "id": "3oiAh2Q4T69P",
        "colab": {
          "base_uri": "https://localhost:8080/"
        },
        "outputId": "e0b3ba14-a8a4-4693-851e-ad7abe069e7c"
      },
      "execution_count": null,
      "outputs": [
        {
          "output_type": "stream",
          "name": "stdout",
          "text": [
            "Model: \"sequential\"\n",
            "_________________________________________________________________\n",
            " Layer (type)                Output Shape              Param #   \n",
            "=================================================================\n",
            " dense (Dense)               (None, 100)               1500      \n",
            "                                                                 \n",
            " dense_1 (Dense)             (None, 100)               10100     \n",
            "                                                                 \n",
            " dense_2 (Dense)             (None, 1)                 101       \n",
            "                                                                 \n",
            "=================================================================\n",
            "Total params: 11,701\n",
            "Trainable params: 11,701\n",
            "Non-trainable params: 0\n",
            "_________________________________________________________________\n"
          ]
        }
      ]
    },
    {
      "cell_type": "markdown",
      "source": [
        "Before the model is ready for training, we need to specify a few more settings. These are added during the model's compile step:\n",
        "\n",
        "- *Loss function:* This measures how accurate the model is during training. We want to minimize this function to \"steer\" the model in the right direction. Here we use the mean squared error loss function. Click [here](https://towardsdatascience.com/common-loss-functions-in-machine-learning-46af0ffc4d23) to learn more about loss functions.\n",
        "- *Optimizer:* This decides the optimization technique used to achieve a minimum for the loss function. Here we use the [Adam Optimizer](https://www.tensorflow.org/api_docs/python/tf/keras/optimizers/Adam), click [here](https://climin.readthedocs.io/en/latest/adam.html) to learn more.\n",
        "- *Epochs:* This decides how long to train the model. One epoch is defined as one iteration over the entire training set, where each iteration loops over all sample batches from the training set. Click [here](https://towardsdatascience.com/epoch-vs-iterations-vs-batch-size-4dfb9c7ce9c9) to learn more about iterations, epochs and batch sizes."
      ],
      "metadata": {
        "id": "fc3lk9TWT9HU"
      }
    },
    {
      "cell_type": "code",
      "source": [
        "optimizer = keras.optimizers.Adam(learning_rate=1e-3) # Initialize an Adam optimizer with a learning rate of 0.001\n",
        "model.compile(optimizer=optimizer, loss=keras.losses.MeanSquaredError()) #Compile the model with the Adam optimizer and MSE loss\n",
        "EPOCHS = 100 #Epoch"
      ],
      "metadata": {
        "id": "RZoOJUKEUAIs"
      },
      "execution_count": null,
      "outputs": []
    },
    {
      "cell_type": "markdown",
      "source": [
        "### Step 5. Train the model\n",
        "\n",
        "We can now train the model using the `model.fit()` function. We pass our training data `(Xtrain, Ytrain)` and the validation data `(Xval, Yval)`, which we can use to check whether our model is overfitting.\n",
        "\n",
        "We train our model for 100 epochs. An epoch is when the model has passed through the entire dataset once. Note that this is different from iterations, because each iteration loops over a \"batch\" of data, where a \"batch\" typically consists of a small subsset of our dataset. We use batches to speed up training, especially for large datasets. For more information on epochs, batches, and iterations, check [this](https://towardsdatascience.com/epoch-vs-iterations-vs-batch-size-4dfb9c7ce9c9) resource.\n",
        "\n",
        "Keras automatically handles backpropogation and updating model weights. To learn more about backpropagation and how neural networks learn, you can click [here](https://www.youtube.com/watch?v=aircAruvnKk) or [here](https://www.youtube.com/watch?v=Ilg3gGewQ5U). It is possible customize this process when engineering advanced networks."
      ],
      "metadata": {
        "id": "RjREc2gmUDtT"
      }
    },
    {
      "cell_type": "code",
      "source": [
        "model.fit(Xtrain, Ytrain, epochs=EPOCHS, validation_data=(Xval, Yval))"
      ],
      "metadata": {
        "id": "OO89aC1iUGUR",
        "colab": {
          "base_uri": "https://localhost:8080/"
        },
        "outputId": "e3805ebe-0b11-4cea-910d-12aeafaa982a"
      },
      "execution_count": null,
      "outputs": [
        {
          "output_type": "stream",
          "name": "stdout",
          "text": [
            "Epoch 1/100\n",
            "10/10 [==============================] - 2s 109ms/step - loss: 6.8523 - val_loss: 4.1706\n",
            "Epoch 2/100\n",
            "10/10 [==============================] - 0s 14ms/step - loss: 2.5292 - val_loss: 1.2533\n",
            "Epoch 3/100\n",
            "10/10 [==============================] - 0s 22ms/step - loss: 1.3339 - val_loss: 0.7335\n",
            "Epoch 4/100\n",
            "10/10 [==============================] - 0s 27ms/step - loss: 0.6461 - val_loss: 0.4331\n",
            "Epoch 5/100\n",
            "10/10 [==============================] - 0s 14ms/step - loss: 0.3426 - val_loss: 0.2290\n",
            "Epoch 6/100\n",
            "10/10 [==============================] - 0s 19ms/step - loss: 0.1912 - val_loss: 0.1460\n",
            "Epoch 7/100\n",
            "10/10 [==============================] - 0s 20ms/step - loss: 0.1607 - val_loss: 0.1555\n",
            "Epoch 8/100\n",
            "10/10 [==============================] - 0s 14ms/step - loss: 0.1570 - val_loss: 0.1608\n",
            "Epoch 9/100\n",
            "10/10 [==============================] - 0s 11ms/step - loss: 0.1535 - val_loss: 0.1524\n",
            "Epoch 10/100\n",
            "10/10 [==============================] - 0s 18ms/step - loss: 0.1487 - val_loss: 0.1511\n",
            "Epoch 11/100\n",
            "10/10 [==============================] - 0s 15ms/step - loss: 0.1488 - val_loss: 0.1452\n",
            "Epoch 12/100\n",
            "10/10 [==============================] - 0s 19ms/step - loss: 0.1482 - val_loss: 0.1419\n",
            "Epoch 13/100\n",
            "10/10 [==============================] - 0s 29ms/step - loss: 0.1479 - val_loss: 0.1508\n",
            "Epoch 14/100\n",
            "10/10 [==============================] - 0s 32ms/step - loss: 0.1476 - val_loss: 0.1457\n",
            "Epoch 15/100\n",
            "10/10 [==============================] - 0s 27ms/step - loss: 0.1497 - val_loss: 0.1494\n",
            "Epoch 16/100\n",
            "10/10 [==============================] - 0s 25ms/step - loss: 0.1482 - val_loss: 0.1447\n",
            "Epoch 17/100\n",
            "10/10 [==============================] - 0s 17ms/step - loss: 0.1471 - val_loss: 0.1434\n",
            "Epoch 18/100\n",
            "10/10 [==============================] - 0s 25ms/step - loss: 0.1472 - val_loss: 0.1430\n",
            "Epoch 19/100\n",
            "10/10 [==============================] - 0s 14ms/step - loss: 0.1473 - val_loss: 0.1425\n",
            "Epoch 20/100\n",
            "10/10 [==============================] - 0s 21ms/step - loss: 0.1440 - val_loss: 0.1476\n",
            "Epoch 21/100\n",
            "10/10 [==============================] - 0s 31ms/step - loss: 0.1450 - val_loss: 0.1437\n",
            "Epoch 22/100\n",
            "10/10 [==============================] - 0s 28ms/step - loss: 0.1457 - val_loss: 0.1396\n",
            "Epoch 23/100\n",
            "10/10 [==============================] - 0s 27ms/step - loss: 0.1434 - val_loss: 0.1451\n",
            "Epoch 24/100\n",
            "10/10 [==============================] - 0s 23ms/step - loss: 0.1433 - val_loss: 0.1445\n",
            "Epoch 25/100\n",
            "10/10 [==============================] - 0s 29ms/step - loss: 0.1445 - val_loss: 0.1413\n",
            "Epoch 26/100\n",
            "10/10 [==============================] - 0s 24ms/step - loss: 0.1468 - val_loss: 0.1407\n",
            "Epoch 27/100\n",
            "10/10 [==============================] - 0s 18ms/step - loss: 0.1441 - val_loss: 0.1393\n",
            "Epoch 28/100\n",
            "10/10 [==============================] - 0s 19ms/step - loss: 0.1449 - val_loss: 0.1396\n",
            "Epoch 29/100\n",
            "10/10 [==============================] - 0s 17ms/step - loss: 0.1403 - val_loss: 0.1397\n",
            "Epoch 30/100\n",
            "10/10 [==============================] - 0s 18ms/step - loss: 0.1432 - val_loss: 0.1419\n",
            "Epoch 31/100\n",
            "10/10 [==============================] - 0s 16ms/step - loss: 0.1421 - val_loss: 0.1368\n",
            "Epoch 32/100\n",
            "10/10 [==============================] - 0s 23ms/step - loss: 0.1402 - val_loss: 0.1361\n",
            "Epoch 33/100\n",
            "10/10 [==============================] - 0s 8ms/step - loss: 0.1389 - val_loss: 0.1347\n",
            "Epoch 34/100\n",
            "10/10 [==============================] - 0s 13ms/step - loss: 0.1363 - val_loss: 0.1382\n",
            "Epoch 35/100\n",
            "10/10 [==============================] - 0s 19ms/step - loss: 0.1355 - val_loss: 0.1358\n",
            "Epoch 36/100\n",
            "10/10 [==============================] - 0s 16ms/step - loss: 0.1352 - val_loss: 0.1335\n",
            "Epoch 37/100\n",
            "10/10 [==============================] - 0s 30ms/step - loss: 0.1358 - val_loss: 0.1336\n",
            "Epoch 38/100\n",
            "10/10 [==============================] - 0s 12ms/step - loss: 0.1336 - val_loss: 0.1365\n",
            "Epoch 39/100\n",
            "10/10 [==============================] - 0s 19ms/step - loss: 0.1335 - val_loss: 0.1307\n",
            "Epoch 40/100\n",
            "10/10 [==============================] - 0s 18ms/step - loss: 0.1337 - val_loss: 0.1273\n",
            "Epoch 41/100\n",
            "10/10 [==============================] - 0s 16ms/step - loss: 0.1305 - val_loss: 0.1362\n",
            "Epoch 42/100\n",
            "10/10 [==============================] - 0s 17ms/step - loss: 0.1299 - val_loss: 0.1301\n",
            "Epoch 43/100\n",
            "10/10 [==============================] - 0s 13ms/step - loss: 0.1289 - val_loss: 0.1292\n",
            "Epoch 44/100\n",
            "10/10 [==============================] - 0s 17ms/step - loss: 0.1283 - val_loss: 0.1282\n",
            "Epoch 45/100\n",
            "10/10 [==============================] - 0s 32ms/step - loss: 0.1270 - val_loss: 0.1294\n",
            "Epoch 46/100\n",
            "10/10 [==============================] - 0s 35ms/step - loss: 0.1256 - val_loss: 0.1257\n",
            "Epoch 47/100\n",
            "10/10 [==============================] - 1s 56ms/step - loss: 0.1243 - val_loss: 0.1231\n",
            "Epoch 48/100\n",
            "10/10 [==============================] - 0s 24ms/step - loss: 0.1241 - val_loss: 0.1320\n",
            "Epoch 49/100\n",
            "10/10 [==============================] - 0s 36ms/step - loss: 0.1254 - val_loss: 0.1209\n",
            "Epoch 50/100\n",
            "10/10 [==============================] - 0s 30ms/step - loss: 0.1208 - val_loss: 0.1270\n",
            "Epoch 51/100\n",
            "10/10 [==============================] - 0s 47ms/step - loss: 0.1197 - val_loss: 0.1200\n",
            "Epoch 52/100\n",
            "10/10 [==============================] - 0s 33ms/step - loss: 0.1179 - val_loss: 0.1219\n",
            "Epoch 53/100\n",
            "10/10 [==============================] - 0s 25ms/step - loss: 0.1172 - val_loss: 0.1205\n",
            "Epoch 54/100\n",
            "10/10 [==============================] - 0s 36ms/step - loss: 0.1167 - val_loss: 0.1114\n",
            "Epoch 55/100\n",
            "10/10 [==============================] - 0s 36ms/step - loss: 0.1170 - val_loss: 0.1293\n",
            "Epoch 56/100\n",
            "10/10 [==============================] - 0s 27ms/step - loss: 0.1214 - val_loss: 0.1148\n",
            "Epoch 57/100\n",
            "10/10 [==============================] - 0s 26ms/step - loss: 0.1177 - val_loss: 0.1093\n",
            "Epoch 58/100\n",
            "10/10 [==============================] - 0s 18ms/step - loss: 0.1175 - val_loss: 0.1221\n",
            "Epoch 59/100\n",
            "10/10 [==============================] - 0s 25ms/step - loss: 0.1096 - val_loss: 0.1091\n",
            "Epoch 60/100\n",
            "10/10 [==============================] - 0s 40ms/step - loss: 0.1084 - val_loss: 0.1105\n",
            "Epoch 61/100\n",
            "10/10 [==============================] - 0s 22ms/step - loss: 0.1060 - val_loss: 0.1074\n",
            "Epoch 62/100\n",
            "10/10 [==============================] - 0s 21ms/step - loss: 0.1078 - val_loss: 0.1039\n",
            "Epoch 63/100\n",
            "10/10 [==============================] - 0s 14ms/step - loss: 0.1056 - val_loss: 0.1070\n",
            "Epoch 64/100\n",
            "10/10 [==============================] - 0s 13ms/step - loss: 0.1027 - val_loss: 0.1046\n",
            "Epoch 65/100\n",
            "10/10 [==============================] - 0s 11ms/step - loss: 0.1029 - val_loss: 0.1006\n",
            "Epoch 66/100\n",
            "10/10 [==============================] - 0s 11ms/step - loss: 0.1025 - val_loss: 0.1024\n",
            "Epoch 67/100\n",
            "10/10 [==============================] - 0s 10ms/step - loss: 0.1006 - val_loss: 0.1014\n",
            "Epoch 68/100\n",
            "10/10 [==============================] - 0s 14ms/step - loss: 0.1006 - val_loss: 0.0956\n",
            "Epoch 69/100\n",
            "10/10 [==============================] - 0s 18ms/step - loss: 0.1010 - val_loss: 0.1059\n",
            "Epoch 70/100\n",
            "10/10 [==============================] - 0s 9ms/step - loss: 0.0962 - val_loss: 0.0954\n",
            "Epoch 71/100\n",
            "10/10 [==============================] - 0s 11ms/step - loss: 0.1006 - val_loss: 0.1051\n",
            "Epoch 72/100\n",
            "10/10 [==============================] - 0s 15ms/step - loss: 0.0970 - val_loss: 0.0899\n",
            "Epoch 73/100\n",
            "10/10 [==============================] - 0s 11ms/step - loss: 0.0961 - val_loss: 0.0925\n",
            "Epoch 74/100\n",
            "10/10 [==============================] - 0s 13ms/step - loss: 0.0936 - val_loss: 0.0921\n",
            "Epoch 75/100\n",
            "10/10 [==============================] - 0s 10ms/step - loss: 0.0985 - val_loss: 0.0981\n",
            "Epoch 76/100\n",
            "10/10 [==============================] - 0s 17ms/step - loss: 0.0943 - val_loss: 0.0888\n",
            "Epoch 77/100\n",
            "10/10 [==============================] - 0s 34ms/step - loss: 0.0933 - val_loss: 0.0906\n",
            "Epoch 78/100\n",
            "10/10 [==============================] - 0s 24ms/step - loss: 0.0916 - val_loss: 0.0882\n",
            "Epoch 79/100\n",
            "10/10 [==============================] - 0s 4ms/step - loss: 0.0922 - val_loss: 0.0857\n",
            "Epoch 80/100\n",
            "10/10 [==============================] - 0s 4ms/step - loss: 0.0916 - val_loss: 0.0894\n",
            "Epoch 81/100\n",
            "10/10 [==============================] - 0s 4ms/step - loss: 0.0927 - val_loss: 0.0888\n",
            "Epoch 82/100\n",
            "10/10 [==============================] - 0s 5ms/step - loss: 0.0916 - val_loss: 0.0829\n",
            "Epoch 83/100\n",
            "10/10 [==============================] - 0s 4ms/step - loss: 0.0905 - val_loss: 0.0841\n",
            "Epoch 84/100\n",
            "10/10 [==============================] - 0s 4ms/step - loss: 0.0896 - val_loss: 0.0834\n",
            "Epoch 85/100\n",
            "10/10 [==============================] - 0s 6ms/step - loss: 0.0897 - val_loss: 0.0822\n",
            "Epoch 86/100\n",
            "10/10 [==============================] - 0s 6ms/step - loss: 0.0897 - val_loss: 0.0896\n",
            "Epoch 87/100\n",
            "10/10 [==============================] - 0s 6ms/step - loss: 0.0886 - val_loss: 0.0815\n",
            "Epoch 88/100\n",
            "10/10 [==============================] - 0s 5ms/step - loss: 0.0872 - val_loss: 0.0797\n",
            "Epoch 89/100\n",
            "10/10 [==============================] - 0s 5ms/step - loss: 0.0880 - val_loss: 0.0833\n",
            "Epoch 90/100\n",
            "10/10 [==============================] - 0s 5ms/step - loss: 0.0877 - val_loss: 0.0808\n",
            "Epoch 91/100\n",
            "10/10 [==============================] - 0s 5ms/step - loss: 0.0873 - val_loss: 0.0786\n",
            "Epoch 92/100\n",
            "10/10 [==============================] - 0s 7ms/step - loss: 0.0863 - val_loss: 0.0821\n",
            "Epoch 93/100\n",
            "10/10 [==============================] - 0s 5ms/step - loss: 0.0851 - val_loss: 0.0775\n",
            "Epoch 94/100\n",
            "10/10 [==============================] - 0s 5ms/step - loss: 0.0886 - val_loss: 0.0967\n",
            "Epoch 95/100\n",
            "10/10 [==============================] - 0s 5ms/step - loss: 0.0951 - val_loss: 0.0799\n",
            "Epoch 96/100\n",
            "10/10 [==============================] - 0s 6ms/step - loss: 0.0912 - val_loss: 0.0773\n",
            "Epoch 97/100\n",
            "10/10 [==============================] - 0s 6ms/step - loss: 0.0945 - val_loss: 0.0916\n",
            "Epoch 98/100\n",
            "10/10 [==============================] - 0s 4ms/step - loss: 0.0895 - val_loss: 0.0782\n",
            "Epoch 99/100\n",
            "10/10 [==============================] - 0s 5ms/step - loss: 0.0847 - val_loss: 0.0815\n",
            "Epoch 100/100\n",
            "10/10 [==============================] - 0s 5ms/step - loss: 0.0862 - val_loss: 0.0762\n"
          ]
        },
        {
          "output_type": "execute_result",
          "data": {
            "text/plain": [
              "<keras.callbacks.History at 0x7f1d28f06710>"
            ]
          },
          "metadata": {},
          "execution_count": 15
        }
      ]
    },
    {
      "cell_type": "markdown",
      "source": [
        "At this point, we can check some of the [weights](https://en.wikipedia.org/wiki/Synaptic_weight) from the trained neural network. These weights, in a way, represent the relationship between inputs and outputs."
      ],
      "metadata": {
        "id": "6QftWMfaUTQV"
      }
    },
    {
      "cell_type": "code",
      "source": [
        "weights = model.layers[-1].get_weights()[0]\n",
        "weights[3] #prints the 3rd weight in the last layer"
      ],
      "metadata": {
        "id": "EVA4UkiSUZCM",
        "colab": {
          "base_uri": "https://localhost:8080/"
        },
        "outputId": "7f7d5764-6ef0-4947-ea53-fb74016bfc57"
      },
      "execution_count": null,
      "outputs": [
        {
          "output_type": "execute_result",
          "data": {
            "text/plain": [
              "array([0.1561984], dtype=float32)"
            ]
          },
          "metadata": {},
          "execution_count": 16
        }
      ]
    },
    {
      "cell_type": "code",
      "source": [
        "#The history object contains the training and validation losses, which we can plot\n",
        "training_loss = model.history.history['loss']\n",
        "validation_loss = model.history.history['val_loss']"
      ],
      "metadata": {
        "id": "iQrltlhhUaSq"
      },
      "execution_count": null,
      "outputs": []
    },
    {
      "cell_type": "markdown",
      "source": [
        "### Step 6. Evaluate model training\n",
        "\n",
        "We use pyplot from [Matplotlib](https://matplotlib.org/) to plot the \"Learning Curve\", which is a plot that shows the evolution of training and validation loss over epochs. We expect the training and validation losses to go down if the training went well. More importantly, if the validation loss goes up after a while, we know that the model is overfitting. In Keras, this overfitting can be prevented using the `EarlyStopping()` functionality, click [here](https://keras.io/api/callbacks/early_stopping/) to learn more."
      ],
      "metadata": {
        "id": "GhLODCPpUc5k"
      }
    },
    {
      "cell_type": "code",
      "source": [
        "plt.plot(training_loss, color='blue', label='training', lw=3)\n",
        "plt.plot(validation_loss, c='orange', label='validation', lw=3)\n",
        "plt.xlabel('Epoch', c='k', fontsize=20)\n",
        "plt.ylabel(\"Loss value (eV$^2$)\", c='k', fontsize=20)\n",
        "plt.rc('xtick', labelsize=24)\n",
        "plt.rc('ytick', labelsize=24)\n",
        "plt.legend(loc='upper right', ncol=1, frameon=True, prop={'size':20})\n",
        "plt.legend()\n",
        "plt.show()"
      ],
      "metadata": {
        "id": "tIgwtMcyUfIG",
        "colab": {
          "base_uri": "https://localhost:8080/",
          "height": 302
        },
        "outputId": "ec26a076-8c48-4852-c93c-23215d785aea"
      },
      "execution_count": null,
      "outputs": [
        {
          "output_type": "display_data",
          "data": {
            "text/plain": [
              "<Figure size 432x288 with 1 Axes>"
            ],
            "image/png": "[encoded data removed]"
          },
          "metadata": {
            "needs_background": "light"
          }
        }
      ]
    },
    {
      "cell_type": "markdown",
      "source": [
        "At this stage, if we are satisfied with the model training, we can call the `model.evaluate()` function on the training, validation, and test sets to measure model performance. If we wish to improve training, we would go back and change parameters in the building of the model such as running the training for more epochs or adding more layers to the model. The effect of these changes will be tracked by the learning curves."
      ],
      "metadata": {
        "id": "7ByFTdVMUhGx"
      }
    },
    {
      "cell_type": "code",
      "source": [
        "#The model.evaluate() function evaluates the model on the training, validation and testing datasets\n",
        "mse_train = model.evaluate(Xtrain, Ytrain)\n",
        "mse_val = model.evaluate(Xval, Yval)\n",
        "mse_test = model.evaluate(Xtest, Ytest)\n",
        "\n",
        "print(f\"Averaged Squared Error For each Data Partition:\\nTrain:\\t\\t{mse_train}\\nValidation:\\t{mse_val}\\nTest:\\t\\t{mse_test}\")"
      ],
      "metadata": {
        "id": "KhrJvOanUjFf",
        "colab": {
          "base_uri": "https://localhost:8080/"
        },
        "outputId": "469681b4-8029-44d3-80cb-67d7585e7052"
      },
      "execution_count": null,
      "outputs": [
        {
          "output_type": "stream",
          "name": "stdout",
          "text": [
            "10/10 [==============================] - 0s 2ms/step - loss: 0.0837\n",
            "3/3 [==============================] - 0s 5ms/step - loss: 0.0762\n",
            "4/4 [==============================] - 0s 4ms/step - loss: 0.0762\n",
            "Averaged Squared Error For each Data Partition:\n",
            "Train:\t\t0.08373319357633591\n",
            "Validation:\t0.07621278613805771\n",
            "Test:\t\t0.0762237161397934\n"
          ]
        }
      ]
    },
    {
      "cell_type": "markdown",
      "source": [
        "We can save the model into an h5 format training by using the `model.save()` function. This saved model can be reloaded using the `load_model()` function.\n",
        "\n",
        "This tool is running in a read only filesystem, so this code is just for reference."
      ],
      "metadata": {
        "id": "h_9bOdNIUjAW"
      }
    },
    {
      "cell_type": "markdown",
      "source": [
        "model.save('./Models/nn_c_bg.h5')\n",
        "\n",
        "load_model = keras.models.load_model('./Models/nn_c_bg.h5')"
      ],
      "metadata": {
        "id": "1jFRyLbDUpcD"
      }
    },
    {
      "cell_type": "markdown",
      "source": [
        "### Step 7. Make some predictions\n",
        "\n",
        "We can call the `model.predict()` function to make predictions. We will use this function to make predictions on the train, validation and test sets. We expect good predictions for the training and validation sets, but the predictions on the test sets are unknown"
      ],
      "metadata": {
        "id": "5Un6nY3oUues"
      }
    },
    {
      "cell_type": "code",
      "source": [
        "Y_pred_tr = model.predict(Xtrain)\n",
        "Y_pred_val = model.predict(Xval)\n",
        "Y_pred_test = model.predict(Xtest)"
      ],
      "metadata": {
        "id": "MrqgEWAgUx8d",
        "colab": {
          "base_uri": "https://localhost:8080/"
        },
        "outputId": "b2fe6e63-fab3-4393-9c42-063651bb328c"
      },
      "execution_count": null,
      "outputs": [
        {
          "output_type": "stream",
          "name": "stdout",
          "text": [
            "10/10 [==============================] - 0s 2ms/step\n",
            "3/3 [==============================] - 0s 5ms/step\n",
            "4/4 [==============================] - 0s 4ms/step\n"
          ]
        }
      ]
    },
    {
      "cell_type": "markdown",
      "source": [
        "### Step 8. Visualize results\n",
        "\n",
        "We are now ready to visualize the results of our training. One way to do this is to plot the model predictions compared to the ground truth data, known as a parity plot. We see that the model does a reasonable job at predicting band gaps for each of the train, validation, and test sets. Note that in a real world application, we will not know the ground truth values for the test set.\n",
        "\n"
      ],
      "metadata": {
        "id": "ssx3cfy3Uz58"
      }
    },
    {
      "cell_type": "code",
      "source": [
        "plt.figure(figsize=(6,6))\n",
        "plt.plot(Ytrain, Y_pred_tr, 'ro', label=\"training\")\n",
        "plt.plot(Yval, Y_pred_val, 'bo', label=\"validation\")\n",
        "plt.plot(Ytest, Y_pred_test, 'go', label=\"testing\")\n",
        "plt.plot(Ytrain, Ytrain, 'k-')\n",
        "plt.gca().set_aspect(1.0)\n",
        "plt.xlabel('Ground truth bandgap (eV)', c='k', fontsize=16)\n",
        "plt.ylabel(\"Predicted bandgap (eV)\", c='k', fontsize=16)\n",
        "plt.rc('xtick', labelsize=16)\n",
        "plt.rc('ytick', labelsize=16)\n",
        "plt.legend()\n",
        "plt.show()"
      ],
      "metadata": {
        "id": "8A3wQ00fU2kX",
        "colab": {
          "base_uri": "https://localhost:8080/",
          "height": 407
        },
        "outputId": "6d8ad619-10c9-4723-96c5-46d3505e84a5"
      },
      "execution_count": null,
      "outputs": [
        {
          "output_type": "display_data",
          "data": {
            "text/plain": [
              "<Figure size 432x432 with 1 Axes>"
            ],
            "image/png": "[encoded data removed]"
          },
          "metadata": {
            "needs_background": "light"
          }
        }
      ]
    },
    {
      "cell_type": "code",
      "source": [],
      "metadata": {
        "id": "1yUFDYTywrPU"
      },
      "execution_count": null,
      "outputs": []
    }
  ]
}